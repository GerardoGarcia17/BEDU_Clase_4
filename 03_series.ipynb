{
 "cells": [
  {
   "cell_type": "code",
   "execution_count": 2,
   "id": "bb223766-e69b-4f26-9d05-759610ddda58",
   "metadata": {},
   "outputs": [
    {
     "name": "stdout",
     "output_type": "stream",
     "text": [
      "0      5.0\n",
      "1      6.0\n",
      "2      7.0\n",
      "3      NaN\n",
      "4    212.0\n",
      "5     12.0\n",
      "6     12.0\n",
      "dtype: float64\n"
     ]
    }
   ],
   "source": [
    "import pandas as pd\n",
    "\n",
    "#series\n",
    "\n",
    "data = (5,6,7, None, 212, 12, 12)\n",
    "\n",
    "series = pd.Series(data)\n",
    "print(series)"
   ]
  }
 ],
 "metadata": {
  "kernelspec": {
   "display_name": "Python 3 (ipykernel)",
   "language": "python",
   "name": "python3"
  },
  "language_info": {
   "codemirror_mode": {
    "name": "ipython",
    "version": 3
   },
   "file_extension": ".py",
   "mimetype": "text/x-python",
   "name": "python",
   "nbconvert_exporter": "python",
   "pygments_lexer": "ipython3",
   "version": "3.10.11"
  }
 },
 "nbformat": 4,
 "nbformat_minor": 5
}
