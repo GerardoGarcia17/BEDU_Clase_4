{
 "cells": [
  {
   "cell_type": "code",
   "execution_count": 1,
   "id": "5bffa201-9527-465b-986c-1fad7ffad4e7",
   "metadata": {},
   "outputs": [
    {
     "name": "stdout",
     "output_type": "stream",
     "text": [
      "{'Name': ['Alice', 'Bob', 'Charlie'], 'Age': [25, 30, 35], 'City': ['New York', 'San Francisco', 'Los Angeles']}\n",
      "<class 'dict'>\n"
     ]
    }
   ],
   "source": [
    "import pandas as pd\n",
    "\n",
    "data = {'Name': ['Alice', 'Bob', 'Charlie'],\n",
    "        'Age': [25, 30, 35],\n",
    "        'City': ['New York', 'San Francisco', 'Los Angeles']}\n",
    "\n",
    "print(data)\n",
    "print(type(data))"
   ]
  },
  {
   "cell_type": "code",
   "execution_count": 5,
   "id": "f849dc92-f9fd-437f-ab68-284d48f32bdb",
   "metadata": {},
   "outputs": [],
   "source": [
    "df = pd.DataFrame(data)"
   ]
  },
  {
   "cell_type": "code",
   "execution_count": 6,
   "id": "ac7cea70-7503-4771-97f3-f52fd65a7a50",
   "metadata": {},
   "outputs": [
    {
     "name": "stdout",
     "output_type": "stream",
     "text": [
      "      Name  Age           City\n",
      "0    Alice   25       New York\n",
      "1      Bob   30  San Francisco\n",
      "2  Charlie   35    Los Angeles\n"
     ]
    }
   ],
   "source": [
    "print(df)"
   ]
  },
  {
   "cell_type": "code",
   "execution_count": 7,
   "id": "b45ac60e-2cb6-4e26-9039-50d4655a49ce",
   "metadata": {},
   "outputs": [],
   "source": [
    "df.rename(columns={'Age' : 'edad'}, inplace=True)"
   ]
  },
  {
   "cell_type": "code",
   "execution_count": 8,
   "id": "762313c1-ccb3-4f37-ba04-905bc0fdf4b6",
   "metadata": {},
   "outputs": [
    {
     "name": "stdout",
     "output_type": "stream",
     "text": [
      "      Name  edad           City\n",
      "0    Alice    25       New York\n",
      "1      Bob    30  San Francisco\n",
      "2  Charlie    35    Los Angeles\n"
     ]
    }
   ],
   "source": [
    "print(df)"
   ]
  },
  {
   "cell_type": "code",
   "execution_count": 9,
   "id": "7b304a4e-744c-4b80-b332-ef163ad2dedb",
   "metadata": {},
   "outputs": [],
   "source": [
    "df['Genero'] = ['Femenino', 'Masculino', 'Masculino']"
   ]
  },
  {
   "cell_type": "code",
   "execution_count": 10,
   "id": "5a04963f-68ef-4ce8-a2fa-7a38c7019c5a",
   "metadata": {},
   "outputs": [
    {
     "name": "stdout",
     "output_type": "stream",
     "text": [
      "      Name  edad           City     Genero\n",
      "0    Alice    25       New York   Femenino\n",
      "1      Bob    30  San Francisco  Masculino\n",
      "2  Charlie    35    Los Angeles  Masculino\n"
     ]
    }
   ],
   "source": [
    "print(df)"
   ]
  }
 ],
 "metadata": {
  "kernelspec": {
   "display_name": "Python 3 (ipykernel)",
   "language": "python",
   "name": "python3"
  },
  "language_info": {
   "codemirror_mode": {
    "name": "ipython",
    "version": 3
   },
   "file_extension": ".py",
   "mimetype": "text/x-python",
   "name": "python",
   "nbconvert_exporter": "python",
   "pygments_lexer": "ipython3",
   "version": "3.10.11"
  }
 },
 "nbformat": 4,
 "nbformat_minor": 5
}
